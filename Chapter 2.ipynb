{
 "cells": [
  {
   "cell_type": "markdown",
   "id": "05badb4d-9d65-4560-9cf0-4b792fffd9e9",
   "metadata": {},
   "source": [
    "# Chapter 2: Coding our First Neurons\n",
    "\n",
    "\n",
    "## A Layer of Neurons\n",
    "Each neuron has a set is weights (1 for each input) and a bias. \n",
    "Each output of neuron is calculated like so:\n",
    "\n",
    "`output=sum(inputs*weights+bias)`\n",
    "\n",
    "The below example shows 3 neurons with 4 different inputs (thus 4 different values for each set of weights)."
   ]
  },
  {
   "cell_type": "code",
   "execution_count": 1,
   "id": "6fb5df9a-3d8d-46ee-a000-91eb8a28759d",
   "metadata": {},
   "outputs": [
    {
     "name": "stdout",
     "output_type": "stream",
     "text": [
      "[3.5999999999999996, 8.7, 11.1]\n"
     ]
    }
   ],
   "source": [
    "inputs = [1, 2, 3, 2.5]\n",
    "\n",
    "weights1 = [0.2, 0.7, -0.5, 1]\n",
    "weights2 = [0.1, 0.8, 0.5, 1]\n",
    "weights3 = [0.6, 0.3, -0.2, 4]\n",
    "\n",
    "bias1 = 1\n",
    "bias2 = 3\n",
    "bias3 = 0.5\n",
    "\n",
    "outputs = [\n",
    "    # Neuron 1:\n",
    "    inputs[0]*weights1[0] +\n",
    "    inputs[1]*weights1[1] +\n",
    "    inputs[2]*weights1[2] +\n",
    "    inputs[3]*weights1[3] + bias1,\n",
    "\n",
    "    # Neuron 2:\n",
    "    inputs[0]*weights2[0] +\n",
    "    inputs[1]*weights2[1] +\n",
    "    inputs[2]*weights2[2] +\n",
    "    inputs[3]*weights2[3] + bias2,\n",
    "\n",
    "    # Neuron 3:\n",
    "    inputs[0]*weights3[0] +\n",
    "    inputs[1]*weights3[1] +\n",
    "    inputs[2]*weights3[2] +\n",
    "    inputs[3]*weights3[3] + bias3,\n",
    "]\n",
    "\n",
    "print(outputs)"
   ]
  },
  {
   "cell_type": "markdown",
   "id": "6fddd26a-bf2d-443c-b948-db0109a482b2",
   "metadata": {},
   "source": [
    "The above will is a lot of work and will not scale well for larger inputs. Below is the same outcome, but setup in a way that will allow for more inputs and neurons without needing to re-write the core logic."
   ]
  },
  {
   "cell_type": "code",
   "execution_count": 10,
   "id": "2b9686cc-e730-4307-b830-3d08646b4ffe",
   "metadata": {},
   "outputs": [
    {
     "name": "stdout",
     "output_type": "stream",
     "text": [
      "[3.5999999999999996, 8.7, 11.1]\n"
     ]
    }
   ],
   "source": [
    "inputs = [1, 2, 3, 2.5]\n",
    "\n",
    "weights = [[0.2, 0.7, -0.5, 1],\n",
    "            [0.1, 0.8, 0.5, 1],\n",
    "            [0.6, 0.3, -0.2, 4]]\n",
    "\n",
    "biases = [1, 3, 0.5]\n",
    "\n",
    "layer_outputs = []\n",
    "for neuron_weights, neuron_bias in zip(weights, biases):\n",
    "    neuron_output = 0\n",
    "    for n_input, weight, in zip(inputs, neuron_weights):\n",
    "        neuron_output += n_input*weight\n",
    "    neuron_output += neuron_bias\n",
    "    layer_outputs.append(neuron_output)\n",
    "print(layer_outputs)"
   ]
  },
  {
   "cell_type": "markdown",
   "id": "02fc466a-c6aa-4275-bda1-082700324248",
   "metadata": {},
   "source": [
    "## Tensors, Arrays, and Vectors\n",
    "\n",
    "Tensors are not arrays exactly, but can be represented with arrays. \n",
    "\n",
    "In order for a list to be an array, it must be **homologous**. For a list of lists to be homologous, this means each list in the lists has an identical length.\n",
    "\n",
    "To determine the shape of an array, you look at each dimension.\n",
    "\n",
    "For example:\n",
    "\n",
    "```#!python\n",
    "lolol = [\n",
    "         [[1, 2, 3, 4],[1, 2, 3, 4]],\n",
    "         [[1, 2, 3, 4],[1, 2, 3, 4]], \n",
    "         [[1, 2, 3, 4],[1, 2, 3, 4]]\n",
    "        ]\n",
    "```\n",
    "\n",
    "In the above list, there are 3 lists, with 2 lists inside. Then there are 4 numbers inside each of the 2 lists.\n",
    "\n",
    "This makes the shape of the array: `(3, 2, 4)`\n",
    "This is a 3 dimensional array which is why there are 3 different numbers, `(3, 2, 4)`, in the shape.\n",
    "\n",
    "        \n",
    "        \n"
   ]
  },
  {
   "cell_type": "markdown",
   "id": "6c52c29b-76ad-44d7-acc5-8ac6dcb051bb",
   "metadata": {},
   "source": [
    "## Dot Product and Vector Addition\n",
    "\n",
    "When multiplying vectors, you either perform a dot product or a cross product. A cross product results in a vector while a dot product results in a scalar (a single value/number).\n",
    "\n",
    "Below is the dot product represented in Python:"
   ]
  },
  {
   "cell_type": "code",
   "execution_count": null,
   "id": "08502172-837f-4e85-bbd1-77c778788328",
   "metadata": {},
   "outputs": [],
   "source": [
    "a = [1, 2, 3]\n",
    "b = [2, 3, 4]"
   ]
  }
 ],
 "metadata": {
  "kernelspec": {
   "display_name": "virtulENV",
   "language": "python",
   "name": "venv"
  },
  "language_info": {
   "codemirror_mode": {
    "name": "ipython",
    "version": 3
   },
   "file_extension": ".py",
   "mimetype": "text/x-python",
   "name": "python",
   "nbconvert_exporter": "python",
   "pygments_lexer": "ipython3",
   "version": "3.12.3"
  }
 },
 "nbformat": 4,
 "nbformat_minor": 5
}

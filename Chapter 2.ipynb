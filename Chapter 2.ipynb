{
 "cells": [
  {
   "cell_type": "markdown",
   "id": "05badb4d-9d65-4560-9cf0-4b792fffd9e9",
   "metadata": {},
   "source": [
    "# Chapter 2: Coding our First Neurons\n",
    "\n",
    "\n",
    "## A Layer of Neurons\n",
    "Each neuron has a set is weights (1 for each input) and a bias. \n",
    "Each output of neuron is calculated like so:\n",
    "\n",
    "`output=sum(inputs*weights+bias)`\n",
    "\n",
    "The below example shows 3 neurons with 4 different inputs (thus 4 different values for each set of weights)."
   ]
  },
  {
   "cell_type": "code",
   "execution_count": 1,
   "id": "6fb5df9a-3d8d-46ee-a000-91eb8a28759d",
   "metadata": {},
   "outputs": [
    {
     "name": "stdout",
     "output_type": "stream",
     "text": [
      "[3.5999999999999996, 8.7, 11.1]\n"
     ]
    }
   ],
   "source": [
    "inputs = [1, 2, 3, 2.5]\n",
    "\n",
    "weights1 = [0.2, 0.7, -0.5, 1]\n",
    "weights2 = [0.1, 0.8, 0.5, 1]\n",
    "weights3 = [0.6, 0.3, -0.2, 4]\n",
    "\n",
    "bias1 = 1\n",
    "bias2 = 3\n",
    "bias3 = 0.5\n",
    "\n",
    "outputs = [\n",
    "    # Neuron 1:\n",
    "    inputs[0]*weights1[0] +\n",
    "    inputs[1]*weights1[1] +\n",
    "    inputs[2]*weights1[2] +\n",
    "    inputs[3]*weights1[3] + bias1,\n",
    "\n",
    "    # Neuron 2:\n",
    "    inputs[0]*weights2[0] +\n",
    "    inputs[1]*weights2[1] +\n",
    "    inputs[2]*weights2[2] +\n",
    "    inputs[3]*weights2[3] + bias2,\n",
    "\n",
    "    # Neuron 3:\n",
    "    inputs[0]*weights3[0] +\n",
    "    inputs[1]*weights3[1] +\n",
    "    inputs[2]*weights3[2] +\n",
    "    inputs[3]*weights3[3] + bias3,\n",
    "]\n",
    "\n",
    "print(outputs)"
   ]
  },
  {
   "cell_type": "markdown",
   "id": "6fddd26a-bf2d-443c-b948-db0109a482b2",
   "metadata": {},
   "source": [
    "The above will is a lot of work and will not scale well for larger inputs. Below is the same outcome, but setup in a way that will allow for more inputs and neurons without needing to re-write the core logic."
   ]
  },
  {
   "cell_type": "code",
   "execution_count": 10,
   "id": "2b9686cc-e730-4307-b830-3d08646b4ffe",
   "metadata": {},
   "outputs": [
    {
     "name": "stdout",
     "output_type": "stream",
     "text": [
      "[3.5999999999999996, 8.7, 11.1]\n"
     ]
    }
   ],
   "source": [
    "inputs = [1, 2, 3, 2.5]\n",
    "\n",
    "weights = [[0.2, 0.7, -0.5, 1],\n",
    "            [0.1, 0.8, 0.5, 1],\n",
    "            [0.6, 0.3, -0.2, 4]]\n",
    "\n",
    "biases = [1, 3, 0.5]\n",
    "\n",
    "layer_outputs = []\n",
    "for neuron_weights, neuron_bias in zip(weights, biases):\n",
    "    neuron_output = 0\n",
    "    for n_input, weight, in zip(inputs, neuron_weights):\n",
    "        neuron_output += n_input*weight\n",
    "    neuron_output += neuron_bias\n",
    "    layer_outputs.append(neuron_output)\n",
    "print(layer_outputs)"
   ]
  },
  {
   "cell_type": "markdown",
   "id": "02fc466a-c6aa-4275-bda1-082700324248",
   "metadata": {},
   "source": [
    "## Tensors, Arrays, and Vectors\n",
    "\n",
    "Tensors are not arrays exactly, but can be represented with arrays. \n",
    "\n",
    "In order for a list to be an array, it must be **homologous**. For a list of lists to be homologous, this means each list in the lists has an identical length.\n",
    "\n",
    "To determine the shape of an array, you look at each dimension.\n",
    "\n",
    "For example:\n",
    "\n",
    "```#!python\n",
    "lolol = [\n",
    "         [[1, 2, 3, 4],[1, 2, 3, 4]],\n",
    "         [[1, 2, 3, 4],[1, 2, 3, 4]], \n",
    "         [[1, 2, 3, 4],[1, 2, 3, 4]]\n",
    "        ]\n",
    "```\n",
    "\n",
    "In the above list, there are 3 lists, with 2 lists inside. Then there are 4 numbers inside each of the 2 lists.\n",
    "\n",
    "This makes the shape of the array: `(3, 2, 4)`\n",
    "This is a 3 dimensional array which is why there are 3 different numbers, `(3, 2, 4)`, in the shape.\n",
    "\n",
    "        \n",
    "        \n"
   ]
  },
  {
   "cell_type": "markdown",
   "id": "6c52c29b-76ad-44d7-acc5-8ac6dcb051bb",
   "metadata": {},
   "source": [
    "## Dot Product and Vector Addition\n",
    "\n",
    "When multiplying vectors, you either perform a dot product or a cross product. A cross product results in a vector while a dot product results in a scalar (a single value/number).\n",
    "\n",
    "Below is the dot product represented in Python:"
   ]
  },
  {
   "cell_type": "code",
   "execution_count": 20,
   "id": "08502172-837f-4e85-bbd1-77c778788328",
   "metadata": {},
   "outputs": [
    {
     "name": "stdout",
     "output_type": "stream",
     "text": [
      "20\n"
     ]
    }
   ],
   "source": [
    "a = [1, 2, 3]\n",
    "b = [2, 3, 4]\n",
    "\n",
    "dot_product = a[0]*b[0] + a[1]*b[1] + a[2]*b[2]\n",
    "print(dot_product)"
   ]
  },
  {
   "cell_type": "markdown",
   "id": "4f5e87f9-ef44-43c3-b288-dac92fa2c4dc",
   "metadata": {},
   "source": [
    "## A Single Neuron with NumPy\n",
    "\n",
    "NumPy (A Python Library) contains a method to perform the dot product:"
   ]
  },
  {
   "cell_type": "code",
   "execution_count": 21,
   "id": "92c5e393-240d-4cdc-8b69-9a478b0427ee",
   "metadata": {},
   "outputs": [
    {
     "name": "stdout",
     "output_type": "stream",
     "text": [
      "4.8\n"
     ]
    }
   ],
   "source": [
    "import numpy as np\n",
    "\n",
    "inputs = [1.0, 2.0, 3.0, 2.5]\n",
    "weights = [0.2, 0.8, -0.5, 1.0]\n",
    "bias = 2.0\n",
    "\n",
    "outputs = np.dot(weights, inputs) + bias\n",
    "\n",
    "print(outputs)"
   ]
  },
  {
   "cell_type": "markdown",
   "id": "220cca97-143c-427b-b031-7608cbf44f85",
   "metadata": {},
   "source": [
    "## A Layer of Neurons with NumPy\n",
    "\n",
    "In this example, we perform the dot product first as one operation on all neurons and inputs and add the bias in the next operation.\n",
    "\n",
    "This is both a simplification and an optimization giving us simpler and faster code. "
   ]
  },
  {
   "cell_type": "code",
   "execution_count": 22,
   "id": "f3b39cb9-f512-40cb-8c07-1bccf5bcf4f9",
   "metadata": {},
   "outputs": [
    {
     "name": "stdout",
     "output_type": "stream",
     "text": [
      "[4.8   1.21  2.385]\n"
     ]
    }
   ],
   "source": [
    "inputs = [1.0, 2.0, 3.0, 2.5]\n",
    "\n",
    "weights = [[0.2, 0.8, -0.5, 1],\n",
    "            [0.5, -0.91, 0.26, -0.5],\n",
    "            [-0.26, -0.27, 0.17, 0.87]]\n",
    "\n",
    "biases = [2.0, 3.0, 0.5]\n",
    "\n",
    "layer_outputs = np.dot(weights, inputs) + biases\n",
    "\n",
    "print(layer_outputs)"
   ]
  },
  {
   "cell_type": "markdown",
   "id": "dd627b0f-76fb-473b-8ac5-d311a54d28a0",
   "metadata": {},
   "source": [
    "## A Batch of Data\n",
    "\n",
    "To train, neural networks tend to receive data in batches.\n",
    "\n",
    "So far, we have been using examples of input data that can be considered a sample (observation or feature set instance). Each number in the list is a feature observation datum that form a feature set instance.\n",
    "\n",
    "NN will often take in many samples at a time because it is faster to train this way and it helps with generalization during training.\n",
    "\n",
    "Generalization during training will help with avoiding overfitting.\n",
    "\n",
    "## Matrix Product\n",
    "\n",
    "The matrix product is where we perform the dot products of all rows from the first matrix and the columns of the 2nd matrix.\n",
    "\n",
    "This operation requires that the size of the second dimension of the left matrix must match the size of the first dimension of the right matrix. \n",
    "\n",
    "## Transposition for the Matrix Product\n",
    "\n",
    "ab^t represents the dot product of vectors a and b.\n",
    "\n",
    "Transposition simply modifies a matrix in a way that its rows become columns and columns become rows.\n",
    "\n",
    "A **row vector** is a matrix with a number of rows equals 1 and the columns equal n (any size).\n",
    "\n",
    "`a = [a1, a2, a3, ...]`\n",
    "\n",
    "With NumPy we would define it as `np.array([[1, 2, 3]])`.\n",
    "\n",
    "or\n",
    "\n",
    "```\n",
    "a = [1, 2, 3]\n",
    "np.array([a])\n",
    "```\n",
    "\n",
    "We encase `a` into brackets before converting to an array.\n",
    "\n",
    "A **column vector** is a matrix where the second dimension's size (columns) equal 1. \n",
    "\n",
    "This can be created with numpy, but requires transposition to turn the rows into columns and columns into rows. \n",
    "\n",
    "b = [2, 3, 4]\n",
    "b^T = [2, 3, 4]^T = \n",
    "\n",
    "[2] <br>\n",
    "[3] <br>\n",
    "[4] <br>\n",
    "\n"
   ]
  },
  {
   "cell_type": "code",
   "execution_count": 23,
   "id": "a04b8f47-8bb9-474e-bdab-6a2242f60a8a",
   "metadata": {},
   "outputs": [
    {
     "name": "stdout",
     "output_type": "stream",
     "text": [
      "[[20]]\n"
     ]
    }
   ],
   "source": [
    "import numpy as np\n",
    "\n",
    "a = [1, 2, 3]\n",
    "b = [2, 3, 4]\n",
    "\n",
    "a = np.array([a])\n",
    "b = np.array([b]).T\n",
    "\n",
    "print(np.dot(a, b))"
   ]
  },
  {
   "cell_type": "markdown",
   "id": "c9431143-50ef-4025-9132-d8cd822c1962",
   "metadata": {},
   "source": [
    "## A Layer of Neurons & Batch of Data w/ NumPy\n",
    "\n"
   ]
  },
  {
   "cell_type": "code",
   "execution_count": 25,
   "id": "3c0b47da-62b5-42ff-8614-0c7b37c7d3ae",
   "metadata": {},
   "outputs": [
    {
     "name": "stdout",
     "output_type": "stream",
     "text": [
      "[[ 4.8    1.21   2.385]\n",
      " [ 8.9   -1.81   0.2  ]\n",
      " [ 1.41   1.051  0.026]]\n"
     ]
    }
   ],
   "source": [
    "\n",
    "inputs = [[1.0, 2.0, 3.0, 2.5],\n",
    "          [2.0, 5.0, -1.0, 2.0],\n",
    "          [-1.5, 2.7, 3.3, -0.8]]\n",
    "\n",
    "# This will need to get transposed for the Matrix product.\n",
    "weights = [[0.2, 0.8, -0.5, 1.0],\n",
    "           [0.5, -0.91, 0.26, -0.5],\n",
    "           [-0.26, -0.27, 0.17, 0.87]]\n",
    "\n",
    "biases = [2.0, 3.0, 0.5]\n",
    "\n",
    "outputs = np.dot(inputs, np.array(weights).T) + biases\n",
    "print(outputs)"
   ]
  }
 ],
 "metadata": {
  "kernelspec": {
   "display_name": "virtulENV",
   "language": "python",
   "name": "venv"
  },
  "language_info": {
   "codemirror_mode": {
    "name": "ipython",
    "version": 3
   },
   "file_extension": ".py",
   "mimetype": "text/x-python",
   "name": "python",
   "nbconvert_exporter": "python",
   "pygments_lexer": "ipython3",
   "version": "3.12.3"
  }
 },
 "nbformat": 4,
 "nbformat_minor": 5
}

{
 "cells": [
  {
   "cell_type": "markdown",
   "id": "e25053b2-d666-4eb2-acff-b211df931cc8",
   "metadata": {},
   "source": [
    "# Chapter 4 Activation Functions"
   ]
  },
  {
   "cell_type": "code",
   "execution_count": null,
   "id": "0f3c6ccf-9e36-4b52-9ac3-7d24425fa555",
   "metadata": {},
   "outputs": [],
   "source": []
  }
 ],
 "metadata": {
  "kernelspec": {
   "display_name": "virtulENV",
   "language": "python",
   "name": "venv"
  },
  "language_info": {
   "codemirror_mode": {
    "name": "ipython",
    "version": 3
   },
   "file_extension": ".py",
   "mimetype": "text/x-python",
   "name": "python",
   "nbconvert_exporter": "python",
   "pygments_lexer": "ipython3",
   "version": "3.12.3"
  }
 },
 "nbformat": 4,
 "nbformat_minor": 5
}
